{
  "nbformat": 4,
  "nbformat_minor": 0,
  "metadata": {
    "colab": {
      "provenance": [],
      "include_colab_link": true
    },
    "kernelspec": {
      "name": "python3",
      "display_name": "Python 3"
    },
    "language_info": {
      "name": "python"
    }
  },
  "cells": [
    {
      "cell_type": "markdown",
      "metadata": {
        "id": "view-in-github",
        "colab_type": "text"
      },
      "source": [
        "<a href=\"https://colab.research.google.com/github/Ncast07/Python_2023/blob/main/12_EDA_parte1.ipynb\" target=\"_parent\"><img src=\"https://colab.research.google.com/assets/colab-badge.svg\" alt=\"Open In Colab\"/></a>"
      ]
    },
    {
      "cell_type": "markdown",
      "source": [
        "# Exploratory Data Analyst (EDA)"
      ],
      "metadata": {
        "id": "Mk-O8FRdmfbI"
      }
    },
    {
      "cell_type": "markdown",
      "source": [
        "## Primera Parte: Validación de Datos"
      ],
      "metadata": {
        "id": "o2KbmOrKmok0"
      }
    },
    {
      "cell_type": "code",
      "source": [
        "#Cargamos nuestra data\n",
        "import pandas as pd\n",
        "import numpy as np\n",
        "import matplotlib.pyplot as plt\n",
        "import seaborn as sns\n",
        "\n",
        "from google.colab import drive #Importante ejecutar para montar la carpeta Mydrive\n",
        "drive.mount('/content/drive') #Importante ejecutar para montar la carpeta Mydrive\n",
        "\n",
        "culqi_df = pd.read_excel(\"/content/drive/MyDrive/1 Bootcamp_Python_DSRP/6_SextaClase/Ejercicio 2_.xlsx\")\n",
        "\n",
        "culqi_df.info()\n",
        "culqi_df.head(3)"
      ],
      "metadata": {
        "id": "kyXVIhk3nKwS",
        "colab": {
          "base_uri": "https://localhost:8080/",
          "height": 580
        },
        "outputId": "acaf74f6-790a-443b-af8c-a23ddca99146"
      },
      "execution_count": 20,
      "outputs": [
        {
          "output_type": "stream",
          "name": "stdout",
          "text": [
            "Drive already mounted at /content/drive; to attempt to forcibly remount, call drive.mount(\"/content/drive\", force_remount=True).\n",
            "<class 'pandas.core.frame.DataFrame'>\n",
            "RangeIndex: 22446 entries, 0 to 22445\n",
            "Data columns (total 11 columns):\n",
            " #   Column            Non-Null Count  Dtype         \n",
            "---  ------            --------------  -----         \n",
            " 0   FECHA VENTA       22446 non-null  datetime64[ns]\n",
            " 1   CANAL VENTA       22446 non-null  object        \n",
            " 2   RUC CLIENTE       22446 non-null  object        \n",
            " 3   VENDEDOR          22446 non-null  object        \n",
            " 4   VENTA ACTIVA      22446 non-null  int64         \n",
            " 5   FECHA ACTIVACION  14067 non-null  datetime64[ns]\n",
            " 6   FLUJO MES VENTA   5426 non-null   float64       \n",
            " 7   GIRO ECONOMICO    22446 non-null  object        \n",
            " 8   DEPARTAMENTO      21001 non-null  object        \n",
            " 9   TIPO PRODUCTO     22446 non-null  object        \n",
            " 10  PRODUCTO          22446 non-null  object        \n",
            "dtypes: datetime64[ns](2), float64(1), int64(1), object(7)\n",
            "memory usage: 1.9+ MB\n"
          ]
        },
        {
          "output_type": "execute_result",
          "data": {
            "text/plain": [
              "  FECHA VENTA CANAL VENTA  RUC CLIENTE      VENDEDOR  VENTA ACTIVA  \\\n",
              "0  2022-01-02      BANCOS  BJDCDAEDCCC  JUAN CORNEJO             0   \n",
              "1  2022-01-02    ORGANICO  BJFJBHAGGCD           ND              0   \n",
              "2  2022-01-02      BANCOS     DCGGBCAG  ROSAS STUART             0   \n",
              "\n",
              "  FECHA ACTIVACION  FLUJO MES VENTA      GIRO ECONOMICO DEPARTAMENTO  \\\n",
              "0              NaT              NaN  TELECOMUNICACIONES         LIMA   \n",
              "1              NaT              NaN        RESTAURANTES         LIMA   \n",
              "2              NaT              NaN            SERVICIO         LIMA   \n",
              "\n",
              "  TIPO PRODUCTO    PRODUCTO  \n",
              "0        ONLINE  CULQI LINK  \n",
              "1       OFFLINE   CULQI PRO  \n",
              "2       OFFLINE   CULQI PRO  "
            ],
            "text/html": [
              "\n",
              "  <div id=\"df-37888a8b-e72f-42e7-a7d7-5a2afbcd22a9\" class=\"colab-df-container\">\n",
              "    <div>\n",
              "<style scoped>\n",
              "    .dataframe tbody tr th:only-of-type {\n",
              "        vertical-align: middle;\n",
              "    }\n",
              "\n",
              "    .dataframe tbody tr th {\n",
              "        vertical-align: top;\n",
              "    }\n",
              "\n",
              "    .dataframe thead th {\n",
              "        text-align: right;\n",
              "    }\n",
              "</style>\n",
              "<table border=\"1\" class=\"dataframe\">\n",
              "  <thead>\n",
              "    <tr style=\"text-align: right;\">\n",
              "      <th></th>\n",
              "      <th>FECHA VENTA</th>\n",
              "      <th>CANAL VENTA</th>\n",
              "      <th>RUC CLIENTE</th>\n",
              "      <th>VENDEDOR</th>\n",
              "      <th>VENTA ACTIVA</th>\n",
              "      <th>FECHA ACTIVACION</th>\n",
              "      <th>FLUJO MES VENTA</th>\n",
              "      <th>GIRO ECONOMICO</th>\n",
              "      <th>DEPARTAMENTO</th>\n",
              "      <th>TIPO PRODUCTO</th>\n",
              "      <th>PRODUCTO</th>\n",
              "    </tr>\n",
              "  </thead>\n",
              "  <tbody>\n",
              "    <tr>\n",
              "      <th>0</th>\n",
              "      <td>2022-01-02</td>\n",
              "      <td>BANCOS</td>\n",
              "      <td>BJDCDAEDCCC</td>\n",
              "      <td>JUAN CORNEJO</td>\n",
              "      <td>0</td>\n",
              "      <td>NaT</td>\n",
              "      <td>NaN</td>\n",
              "      <td>TELECOMUNICACIONES</td>\n",
              "      <td>LIMA</td>\n",
              "      <td>ONLINE</td>\n",
              "      <td>CULQI LINK</td>\n",
              "    </tr>\n",
              "    <tr>\n",
              "      <th>1</th>\n",
              "      <td>2022-01-02</td>\n",
              "      <td>ORGANICO</td>\n",
              "      <td>BJFJBHAGGCD</td>\n",
              "      <td>ND</td>\n",
              "      <td>0</td>\n",
              "      <td>NaT</td>\n",
              "      <td>NaN</td>\n",
              "      <td>RESTAURANTES</td>\n",
              "      <td>LIMA</td>\n",
              "      <td>OFFLINE</td>\n",
              "      <td>CULQI PRO</td>\n",
              "    </tr>\n",
              "    <tr>\n",
              "      <th>2</th>\n",
              "      <td>2022-01-02</td>\n",
              "      <td>BANCOS</td>\n",
              "      <td>DCGGBCAG</td>\n",
              "      <td>ROSAS STUART</td>\n",
              "      <td>0</td>\n",
              "      <td>NaT</td>\n",
              "      <td>NaN</td>\n",
              "      <td>SERVICIO</td>\n",
              "      <td>LIMA</td>\n",
              "      <td>OFFLINE</td>\n",
              "      <td>CULQI PRO</td>\n",
              "    </tr>\n",
              "  </tbody>\n",
              "</table>\n",
              "</div>\n",
              "    <div class=\"colab-df-buttons\">\n",
              "\n",
              "  <div class=\"colab-df-container\">\n",
              "    <button class=\"colab-df-convert\" onclick=\"convertToInteractive('df-37888a8b-e72f-42e7-a7d7-5a2afbcd22a9')\"\n",
              "            title=\"Convert this dataframe to an interactive table.\"\n",
              "            style=\"display:none;\">\n",
              "\n",
              "  <svg xmlns=\"http://www.w3.org/2000/svg\" height=\"24px\" viewBox=\"0 -960 960 960\">\n",
              "    <path d=\"M120-120v-720h720v720H120Zm60-500h600v-160H180v160Zm220 220h160v-160H400v160Zm0 220h160v-160H400v160ZM180-400h160v-160H180v160Zm440 0h160v-160H620v160ZM180-180h160v-160H180v160Zm440 0h160v-160H620v160Z\"/>\n",
              "  </svg>\n",
              "    </button>\n",
              "\n",
              "  <style>\n",
              "    .colab-df-container {\n",
              "      display:flex;\n",
              "      gap: 12px;\n",
              "    }\n",
              "\n",
              "    .colab-df-convert {\n",
              "      background-color: #E8F0FE;\n",
              "      border: none;\n",
              "      border-radius: 50%;\n",
              "      cursor: pointer;\n",
              "      display: none;\n",
              "      fill: #1967D2;\n",
              "      height: 32px;\n",
              "      padding: 0 0 0 0;\n",
              "      width: 32px;\n",
              "    }\n",
              "\n",
              "    .colab-df-convert:hover {\n",
              "      background-color: #E2EBFA;\n",
              "      box-shadow: 0px 1px 2px rgba(60, 64, 67, 0.3), 0px 1px 3px 1px rgba(60, 64, 67, 0.15);\n",
              "      fill: #174EA6;\n",
              "    }\n",
              "\n",
              "    .colab-df-buttons div {\n",
              "      margin-bottom: 4px;\n",
              "    }\n",
              "\n",
              "    [theme=dark] .colab-df-convert {\n",
              "      background-color: #3B4455;\n",
              "      fill: #D2E3FC;\n",
              "    }\n",
              "\n",
              "    [theme=dark] .colab-df-convert:hover {\n",
              "      background-color: #434B5C;\n",
              "      box-shadow: 0px 1px 3px 1px rgba(0, 0, 0, 0.15);\n",
              "      filter: drop-shadow(0px 1px 2px rgba(0, 0, 0, 0.3));\n",
              "      fill: #FFFFFF;\n",
              "    }\n",
              "  </style>\n",
              "\n",
              "    <script>\n",
              "      const buttonEl =\n",
              "        document.querySelector('#df-37888a8b-e72f-42e7-a7d7-5a2afbcd22a9 button.colab-df-convert');\n",
              "      buttonEl.style.display =\n",
              "        google.colab.kernel.accessAllowed ? 'block' : 'none';\n",
              "\n",
              "      async function convertToInteractive(key) {\n",
              "        const element = document.querySelector('#df-37888a8b-e72f-42e7-a7d7-5a2afbcd22a9');\n",
              "        const dataTable =\n",
              "          await google.colab.kernel.invokeFunction('convertToInteractive',\n",
              "                                                    [key], {});\n",
              "        if (!dataTable) return;\n",
              "\n",
              "        const docLinkHtml = 'Like what you see? Visit the ' +\n",
              "          '<a target=\"_blank\" href=https://colab.research.google.com/notebooks/data_table.ipynb>data table notebook</a>'\n",
              "          + ' to learn more about interactive tables.';\n",
              "        element.innerHTML = '';\n",
              "        dataTable['output_type'] = 'display_data';\n",
              "        await google.colab.output.renderOutput(dataTable, element);\n",
              "        const docLink = document.createElement('div');\n",
              "        docLink.innerHTML = docLinkHtml;\n",
              "        element.appendChild(docLink);\n",
              "      }\n",
              "    </script>\n",
              "  </div>\n",
              "\n",
              "\n",
              "<div id=\"df-9648b538-1a92-4ef0-b5e7-f0170332e102\">\n",
              "  <button class=\"colab-df-quickchart\" onclick=\"quickchart('df-9648b538-1a92-4ef0-b5e7-f0170332e102')\"\n",
              "            title=\"Suggest charts\"\n",
              "            style=\"display:none;\">\n",
              "\n",
              "<svg xmlns=\"http://www.w3.org/2000/svg\" height=\"24px\"viewBox=\"0 0 24 24\"\n",
              "     width=\"24px\">\n",
              "    <g>\n",
              "        <path d=\"M19 3H5c-1.1 0-2 .9-2 2v14c0 1.1.9 2 2 2h14c1.1 0 2-.9 2-2V5c0-1.1-.9-2-2-2zM9 17H7v-7h2v7zm4 0h-2V7h2v10zm4 0h-2v-4h2v4z\"/>\n",
              "    </g>\n",
              "</svg>\n",
              "  </button>\n",
              "\n",
              "<style>\n",
              "  .colab-df-quickchart {\n",
              "      --bg-color: #E8F0FE;\n",
              "      --fill-color: #1967D2;\n",
              "      --hover-bg-color: #E2EBFA;\n",
              "      --hover-fill-color: #174EA6;\n",
              "      --disabled-fill-color: #AAA;\n",
              "      --disabled-bg-color: #DDD;\n",
              "  }\n",
              "\n",
              "  [theme=dark] .colab-df-quickchart {\n",
              "      --bg-color: #3B4455;\n",
              "      --fill-color: #D2E3FC;\n",
              "      --hover-bg-color: #434B5C;\n",
              "      --hover-fill-color: #FFFFFF;\n",
              "      --disabled-bg-color: #3B4455;\n",
              "      --disabled-fill-color: #666;\n",
              "  }\n",
              "\n",
              "  .colab-df-quickchart {\n",
              "    background-color: var(--bg-color);\n",
              "    border: none;\n",
              "    border-radius: 50%;\n",
              "    cursor: pointer;\n",
              "    display: none;\n",
              "    fill: var(--fill-color);\n",
              "    height: 32px;\n",
              "    padding: 0;\n",
              "    width: 32px;\n",
              "  }\n",
              "\n",
              "  .colab-df-quickchart:hover {\n",
              "    background-color: var(--hover-bg-color);\n",
              "    box-shadow: 0 1px 2px rgba(60, 64, 67, 0.3), 0 1px 3px 1px rgba(60, 64, 67, 0.15);\n",
              "    fill: var(--button-hover-fill-color);\n",
              "  }\n",
              "\n",
              "  .colab-df-quickchart-complete:disabled,\n",
              "  .colab-df-quickchart-complete:disabled:hover {\n",
              "    background-color: var(--disabled-bg-color);\n",
              "    fill: var(--disabled-fill-color);\n",
              "    box-shadow: none;\n",
              "  }\n",
              "\n",
              "  .colab-df-spinner {\n",
              "    border: 2px solid var(--fill-color);\n",
              "    border-color: transparent;\n",
              "    border-bottom-color: var(--fill-color);\n",
              "    animation:\n",
              "      spin 1s steps(1) infinite;\n",
              "  }\n",
              "\n",
              "  @keyframes spin {\n",
              "    0% {\n",
              "      border-color: transparent;\n",
              "      border-bottom-color: var(--fill-color);\n",
              "      border-left-color: var(--fill-color);\n",
              "    }\n",
              "    20% {\n",
              "      border-color: transparent;\n",
              "      border-left-color: var(--fill-color);\n",
              "      border-top-color: var(--fill-color);\n",
              "    }\n",
              "    30% {\n",
              "      border-color: transparent;\n",
              "      border-left-color: var(--fill-color);\n",
              "      border-top-color: var(--fill-color);\n",
              "      border-right-color: var(--fill-color);\n",
              "    }\n",
              "    40% {\n",
              "      border-color: transparent;\n",
              "      border-right-color: var(--fill-color);\n",
              "      border-top-color: var(--fill-color);\n",
              "    }\n",
              "    60% {\n",
              "      border-color: transparent;\n",
              "      border-right-color: var(--fill-color);\n",
              "    }\n",
              "    80% {\n",
              "      border-color: transparent;\n",
              "      border-right-color: var(--fill-color);\n",
              "      border-bottom-color: var(--fill-color);\n",
              "    }\n",
              "    90% {\n",
              "      border-color: transparent;\n",
              "      border-bottom-color: var(--fill-color);\n",
              "    }\n",
              "  }\n",
              "</style>\n",
              "\n",
              "  <script>\n",
              "    async function quickchart(key) {\n",
              "      const quickchartButtonEl =\n",
              "        document.querySelector('#' + key + ' button');\n",
              "      quickchartButtonEl.disabled = true;  // To prevent multiple clicks.\n",
              "      quickchartButtonEl.classList.add('colab-df-spinner');\n",
              "      try {\n",
              "        const charts = await google.colab.kernel.invokeFunction(\n",
              "            'suggestCharts', [key], {});\n",
              "      } catch (error) {\n",
              "        console.error('Error during call to suggestCharts:', error);\n",
              "      }\n",
              "      quickchartButtonEl.classList.remove('colab-df-spinner');\n",
              "      quickchartButtonEl.classList.add('colab-df-quickchart-complete');\n",
              "    }\n",
              "    (() => {\n",
              "      let quickchartButtonEl =\n",
              "        document.querySelector('#df-9648b538-1a92-4ef0-b5e7-f0170332e102 button');\n",
              "      quickchartButtonEl.style.display =\n",
              "        google.colab.kernel.accessAllowed ? 'block' : 'none';\n",
              "    })();\n",
              "  </script>\n",
              "</div>\n",
              "\n",
              "    </div>\n",
              "  </div>\n"
            ]
          },
          "metadata": {},
          "execution_count": 20
        }
      ]
    },
    {
      "cell_type": "code",
      "source": [
        "from google.colab import drive\n",
        "drive.mount('/content/drive')"
      ],
      "metadata": {
        "id": "DNQR1aB9S6Yq",
        "colab": {
          "base_uri": "https://localhost:8080/"
        },
        "outputId": "3bd3df08-1b92-411b-ab15-12b39753c64c"
      },
      "execution_count": 18,
      "outputs": [
        {
          "output_type": "stream",
          "name": "stdout",
          "text": [
            "Drive already mounted at /content/drive; to attempt to forcibly remount, call drive.mount(\"/content/drive\", force_remount=True).\n"
          ]
        }
      ]
    },
    {
      "cell_type": "code",
      "source": [
        "culqi_df.info()"
      ],
      "metadata": {
        "id": "_0u-78nMt-mP",
        "colab": {
          "base_uri": "https://localhost:8080/"
        },
        "outputId": "80c98f7d-f003-46a7-9689-c89f6d54c86f"
      },
      "execution_count": 21,
      "outputs": [
        {
          "output_type": "stream",
          "name": "stdout",
          "text": [
            "<class 'pandas.core.frame.DataFrame'>\n",
            "RangeIndex: 22446 entries, 0 to 22445\n",
            "Data columns (total 11 columns):\n",
            " #   Column            Non-Null Count  Dtype         \n",
            "---  ------            --------------  -----         \n",
            " 0   FECHA VENTA       22446 non-null  datetime64[ns]\n",
            " 1   CANAL VENTA       22446 non-null  object        \n",
            " 2   RUC CLIENTE       22446 non-null  object        \n",
            " 3   VENDEDOR          22446 non-null  object        \n",
            " 4   VENTA ACTIVA      22446 non-null  int64         \n",
            " 5   FECHA ACTIVACION  14067 non-null  datetime64[ns]\n",
            " 6   FLUJO MES VENTA   5426 non-null   float64       \n",
            " 7   GIRO ECONOMICO    22446 non-null  object        \n",
            " 8   DEPARTAMENTO      21001 non-null  object        \n",
            " 9   TIPO PRODUCTO     22446 non-null  object        \n",
            " 10  PRODUCTO          22446 non-null  object        \n",
            "dtypes: datetime64[ns](2), float64(1), int64(1), object(7)\n",
            "memory usage: 1.9+ MB\n"
          ]
        }
      ]
    },
    {
      "cell_type": "markdown",
      "source": [
        "### 1.¿Qué tipo de datos son las variables del conjunto de datos?\n"
      ],
      "metadata": {
        "id": "q2LAkK9fmt-_"
      }
    },
    {
      "cell_type": "code",
      "source": [
        "culqi_df.dtypes"
      ],
      "metadata": {
        "id": "k2StnHBcnWjP",
        "colab": {
          "base_uri": "https://localhost:8080/"
        },
        "outputId": "3f23dfc0-2899-4d41-c216-24fb6be217cf"
      },
      "execution_count": 22,
      "outputs": [
        {
          "output_type": "execute_result",
          "data": {
            "text/plain": [
              "FECHA VENTA         datetime64[ns]\n",
              "CANAL VENTA                 object\n",
              "RUC CLIENTE                 object\n",
              "VENDEDOR                    object\n",
              "VENTA ACTIVA                 int64\n",
              "FECHA ACTIVACION    datetime64[ns]\n",
              "FLUJO MES VENTA            float64\n",
              "GIRO ECONOMICO              object\n",
              "DEPARTAMENTO                object\n",
              "TIPO PRODUCTO               object\n",
              "PRODUCTO                    object\n",
              "dtype: object"
            ]
          },
          "metadata": {},
          "execution_count": 22
        }
      ]
    },
    {
      "cell_type": "markdown",
      "source": [
        "### 2.¿Cuantas Variables de cada tipo de dato tenemos en el conjunto de datos?"
      ],
      "metadata": {
        "id": "FlPw0-xVmzjI"
      }
    },
    {
      "cell_type": "code",
      "source": [
        "culqi_df.dtypes.value_counts()"
      ],
      "metadata": {
        "id": "X-ND9VdZnXeM",
        "colab": {
          "base_uri": "https://localhost:8080/"
        },
        "outputId": "a56aa44e-930b-4d99-89f7-9ffcc966a17f"
      },
      "execution_count": 23,
      "outputs": [
        {
          "output_type": "execute_result",
          "data": {
            "text/plain": [
              "object            7\n",
              "datetime64[ns]    2\n",
              "int64             1\n",
              "float64           1\n",
              "dtype: int64"
            ]
          },
          "metadata": {},
          "execution_count": 23
        }
      ]
    },
    {
      "cell_type": "markdown",
      "source": [
        "### 3.¿Cuantas variables y observaciones tenemos en el conjunto de datos?"
      ],
      "metadata": {
        "id": "zfI2VpbIm79B"
      }
    },
    {
      "cell_type": "code",
      "source": [
        "culqi_df.shape"
      ],
      "metadata": {
        "id": "Q0aiaViPnX0b",
        "colab": {
          "base_uri": "https://localhost:8080/"
        },
        "outputId": "2970d8a6-9269-454f-b17a-13ab132ea96c"
      },
      "execution_count": 24,
      "outputs": [
        {
          "output_type": "execute_result",
          "data": {
            "text/plain": [
              "(22446, 11)"
            ]
          },
          "metadata": {},
          "execution_count": 24
        }
      ]
    },
    {
      "cell_type": "markdown",
      "source": [
        "### 4.¿Existen valores nulos explicitos en el conjunto de datos??"
      ],
      "metadata": {
        "id": "XP_ijdsSnCzg"
      }
    },
    {
      "cell_type": "code",
      "execution_count": 25,
      "metadata": {
        "id": "-WTeXlVBmbbP",
        "colab": {
          "base_uri": "https://localhost:8080/",
          "height": 223
        },
        "outputId": "b2c3b209-4804-45ae-aaa9-7c6b2ed50976"
      },
      "outputs": [
        {
          "output_type": "execute_result",
          "data": {
            "text/plain": [
              "   FECHA VENTA  CANAL VENTA  RUC CLIENTE  VENDEDOR  VENTA ACTIVA  \\\n",
              "0        False        False        False     False         False   \n",
              "1        False        False        False     False         False   \n",
              "2        False        False        False     False         False   \n",
              "3        False        False        False     False         False   \n",
              "4        False        False        False     False         False   \n",
              "\n",
              "   FECHA ACTIVACION  FLUJO MES VENTA  GIRO ECONOMICO  DEPARTAMENTO  \\\n",
              "0              True             True           False         False   \n",
              "1              True             True           False         False   \n",
              "2              True             True           False         False   \n",
              "3              True             True           False         False   \n",
              "4              True             True           False         False   \n",
              "\n",
              "   TIPO PRODUCTO  PRODUCTO  \n",
              "0          False     False  \n",
              "1          False     False  \n",
              "2          False     False  \n",
              "3          False     False  \n",
              "4          False     False  "
            ],
            "text/html": [
              "\n",
              "  <div id=\"df-bf0a7d19-0bb3-4347-a3b1-80536eddf4e3\" class=\"colab-df-container\">\n",
              "    <div>\n",
              "<style scoped>\n",
              "    .dataframe tbody tr th:only-of-type {\n",
              "        vertical-align: middle;\n",
              "    }\n",
              "\n",
              "    .dataframe tbody tr th {\n",
              "        vertical-align: top;\n",
              "    }\n",
              "\n",
              "    .dataframe thead th {\n",
              "        text-align: right;\n",
              "    }\n",
              "</style>\n",
              "<table border=\"1\" class=\"dataframe\">\n",
              "  <thead>\n",
              "    <tr style=\"text-align: right;\">\n",
              "      <th></th>\n",
              "      <th>FECHA VENTA</th>\n",
              "      <th>CANAL VENTA</th>\n",
              "      <th>RUC CLIENTE</th>\n",
              "      <th>VENDEDOR</th>\n",
              "      <th>VENTA ACTIVA</th>\n",
              "      <th>FECHA ACTIVACION</th>\n",
              "      <th>FLUJO MES VENTA</th>\n",
              "      <th>GIRO ECONOMICO</th>\n",
              "      <th>DEPARTAMENTO</th>\n",
              "      <th>TIPO PRODUCTO</th>\n",
              "      <th>PRODUCTO</th>\n",
              "    </tr>\n",
              "  </thead>\n",
              "  <tbody>\n",
              "    <tr>\n",
              "      <th>0</th>\n",
              "      <td>False</td>\n",
              "      <td>False</td>\n",
              "      <td>False</td>\n",
              "      <td>False</td>\n",
              "      <td>False</td>\n",
              "      <td>True</td>\n",
              "      <td>True</td>\n",
              "      <td>False</td>\n",
              "      <td>False</td>\n",
              "      <td>False</td>\n",
              "      <td>False</td>\n",
              "    </tr>\n",
              "    <tr>\n",
              "      <th>1</th>\n",
              "      <td>False</td>\n",
              "      <td>False</td>\n",
              "      <td>False</td>\n",
              "      <td>False</td>\n",
              "      <td>False</td>\n",
              "      <td>True</td>\n",
              "      <td>True</td>\n",
              "      <td>False</td>\n",
              "      <td>False</td>\n",
              "      <td>False</td>\n",
              "      <td>False</td>\n",
              "    </tr>\n",
              "    <tr>\n",
              "      <th>2</th>\n",
              "      <td>False</td>\n",
              "      <td>False</td>\n",
              "      <td>False</td>\n",
              "      <td>False</td>\n",
              "      <td>False</td>\n",
              "      <td>True</td>\n",
              "      <td>True</td>\n",
              "      <td>False</td>\n",
              "      <td>False</td>\n",
              "      <td>False</td>\n",
              "      <td>False</td>\n",
              "    </tr>\n",
              "    <tr>\n",
              "      <th>3</th>\n",
              "      <td>False</td>\n",
              "      <td>False</td>\n",
              "      <td>False</td>\n",
              "      <td>False</td>\n",
              "      <td>False</td>\n",
              "      <td>True</td>\n",
              "      <td>True</td>\n",
              "      <td>False</td>\n",
              "      <td>False</td>\n",
              "      <td>False</td>\n",
              "      <td>False</td>\n",
              "    </tr>\n",
              "    <tr>\n",
              "      <th>4</th>\n",
              "      <td>False</td>\n",
              "      <td>False</td>\n",
              "      <td>False</td>\n",
              "      <td>False</td>\n",
              "      <td>False</td>\n",
              "      <td>True</td>\n",
              "      <td>True</td>\n",
              "      <td>False</td>\n",
              "      <td>False</td>\n",
              "      <td>False</td>\n",
              "      <td>False</td>\n",
              "    </tr>\n",
              "  </tbody>\n",
              "</table>\n",
              "</div>\n",
              "    <div class=\"colab-df-buttons\">\n",
              "\n",
              "  <div class=\"colab-df-container\">\n",
              "    <button class=\"colab-df-convert\" onclick=\"convertToInteractive('df-bf0a7d19-0bb3-4347-a3b1-80536eddf4e3')\"\n",
              "            title=\"Convert this dataframe to an interactive table.\"\n",
              "            style=\"display:none;\">\n",
              "\n",
              "  <svg xmlns=\"http://www.w3.org/2000/svg\" height=\"24px\" viewBox=\"0 -960 960 960\">\n",
              "    <path d=\"M120-120v-720h720v720H120Zm60-500h600v-160H180v160Zm220 220h160v-160H400v160Zm0 220h160v-160H400v160ZM180-400h160v-160H180v160Zm440 0h160v-160H620v160ZM180-180h160v-160H180v160Zm440 0h160v-160H620v160Z\"/>\n",
              "  </svg>\n",
              "    </button>\n",
              "\n",
              "  <style>\n",
              "    .colab-df-container {\n",
              "      display:flex;\n",
              "      gap: 12px;\n",
              "    }\n",
              "\n",
              "    .colab-df-convert {\n",
              "      background-color: #E8F0FE;\n",
              "      border: none;\n",
              "      border-radius: 50%;\n",
              "      cursor: pointer;\n",
              "      display: none;\n",
              "      fill: #1967D2;\n",
              "      height: 32px;\n",
              "      padding: 0 0 0 0;\n",
              "      width: 32px;\n",
              "    }\n",
              "\n",
              "    .colab-df-convert:hover {\n",
              "      background-color: #E2EBFA;\n",
              "      box-shadow: 0px 1px 2px rgba(60, 64, 67, 0.3), 0px 1px 3px 1px rgba(60, 64, 67, 0.15);\n",
              "      fill: #174EA6;\n",
              "    }\n",
              "\n",
              "    .colab-df-buttons div {\n",
              "      margin-bottom: 4px;\n",
              "    }\n",
              "\n",
              "    [theme=dark] .colab-df-convert {\n",
              "      background-color: #3B4455;\n",
              "      fill: #D2E3FC;\n",
              "    }\n",
              "\n",
              "    [theme=dark] .colab-df-convert:hover {\n",
              "      background-color: #434B5C;\n",
              "      box-shadow: 0px 1px 3px 1px rgba(0, 0, 0, 0.15);\n",
              "      filter: drop-shadow(0px 1px 2px rgba(0, 0, 0, 0.3));\n",
              "      fill: #FFFFFF;\n",
              "    }\n",
              "  </style>\n",
              "\n",
              "    <script>\n",
              "      const buttonEl =\n",
              "        document.querySelector('#df-bf0a7d19-0bb3-4347-a3b1-80536eddf4e3 button.colab-df-convert');\n",
              "      buttonEl.style.display =\n",
              "        google.colab.kernel.accessAllowed ? 'block' : 'none';\n",
              "\n",
              "      async function convertToInteractive(key) {\n",
              "        const element = document.querySelector('#df-bf0a7d19-0bb3-4347-a3b1-80536eddf4e3');\n",
              "        const dataTable =\n",
              "          await google.colab.kernel.invokeFunction('convertToInteractive',\n",
              "                                                    [key], {});\n",
              "        if (!dataTable) return;\n",
              "\n",
              "        const docLinkHtml = 'Like what you see? Visit the ' +\n",
              "          '<a target=\"_blank\" href=https://colab.research.google.com/notebooks/data_table.ipynb>data table notebook</a>'\n",
              "          + ' to learn more about interactive tables.';\n",
              "        element.innerHTML = '';\n",
              "        dataTable['output_type'] = 'display_data';\n",
              "        await google.colab.output.renderOutput(dataTable, element);\n",
              "        const docLink = document.createElement('div');\n",
              "        docLink.innerHTML = docLinkHtml;\n",
              "        element.appendChild(docLink);\n",
              "      }\n",
              "    </script>\n",
              "  </div>\n",
              "\n",
              "\n",
              "<div id=\"df-2beb6a95-4e3c-4e0c-aa7c-2d26b2ddba2b\">\n",
              "  <button class=\"colab-df-quickchart\" onclick=\"quickchart('df-2beb6a95-4e3c-4e0c-aa7c-2d26b2ddba2b')\"\n",
              "            title=\"Suggest charts\"\n",
              "            style=\"display:none;\">\n",
              "\n",
              "<svg xmlns=\"http://www.w3.org/2000/svg\" height=\"24px\"viewBox=\"0 0 24 24\"\n",
              "     width=\"24px\">\n",
              "    <g>\n",
              "        <path d=\"M19 3H5c-1.1 0-2 .9-2 2v14c0 1.1.9 2 2 2h14c1.1 0 2-.9 2-2V5c0-1.1-.9-2-2-2zM9 17H7v-7h2v7zm4 0h-2V7h2v10zm4 0h-2v-4h2v4z\"/>\n",
              "    </g>\n",
              "</svg>\n",
              "  </button>\n",
              "\n",
              "<style>\n",
              "  .colab-df-quickchart {\n",
              "      --bg-color: #E8F0FE;\n",
              "      --fill-color: #1967D2;\n",
              "      --hover-bg-color: #E2EBFA;\n",
              "      --hover-fill-color: #174EA6;\n",
              "      --disabled-fill-color: #AAA;\n",
              "      --disabled-bg-color: #DDD;\n",
              "  }\n",
              "\n",
              "  [theme=dark] .colab-df-quickchart {\n",
              "      --bg-color: #3B4455;\n",
              "      --fill-color: #D2E3FC;\n",
              "      --hover-bg-color: #434B5C;\n",
              "      --hover-fill-color: #FFFFFF;\n",
              "      --disabled-bg-color: #3B4455;\n",
              "      --disabled-fill-color: #666;\n",
              "  }\n",
              "\n",
              "  .colab-df-quickchart {\n",
              "    background-color: var(--bg-color);\n",
              "    border: none;\n",
              "    border-radius: 50%;\n",
              "    cursor: pointer;\n",
              "    display: none;\n",
              "    fill: var(--fill-color);\n",
              "    height: 32px;\n",
              "    padding: 0;\n",
              "    width: 32px;\n",
              "  }\n",
              "\n",
              "  .colab-df-quickchart:hover {\n",
              "    background-color: var(--hover-bg-color);\n",
              "    box-shadow: 0 1px 2px rgba(60, 64, 67, 0.3), 0 1px 3px 1px rgba(60, 64, 67, 0.15);\n",
              "    fill: var(--button-hover-fill-color);\n",
              "  }\n",
              "\n",
              "  .colab-df-quickchart-complete:disabled,\n",
              "  .colab-df-quickchart-complete:disabled:hover {\n",
              "    background-color: var(--disabled-bg-color);\n",
              "    fill: var(--disabled-fill-color);\n",
              "    box-shadow: none;\n",
              "  }\n",
              "\n",
              "  .colab-df-spinner {\n",
              "    border: 2px solid var(--fill-color);\n",
              "    border-color: transparent;\n",
              "    border-bottom-color: var(--fill-color);\n",
              "    animation:\n",
              "      spin 1s steps(1) infinite;\n",
              "  }\n",
              "\n",
              "  @keyframes spin {\n",
              "    0% {\n",
              "      border-color: transparent;\n",
              "      border-bottom-color: var(--fill-color);\n",
              "      border-left-color: var(--fill-color);\n",
              "    }\n",
              "    20% {\n",
              "      border-color: transparent;\n",
              "      border-left-color: var(--fill-color);\n",
              "      border-top-color: var(--fill-color);\n",
              "    }\n",
              "    30% {\n",
              "      border-color: transparent;\n",
              "      border-left-color: var(--fill-color);\n",
              "      border-top-color: var(--fill-color);\n",
              "      border-right-color: var(--fill-color);\n",
              "    }\n",
              "    40% {\n",
              "      border-color: transparent;\n",
              "      border-right-color: var(--fill-color);\n",
              "      border-top-color: var(--fill-color);\n",
              "    }\n",
              "    60% {\n",
              "      border-color: transparent;\n",
              "      border-right-color: var(--fill-color);\n",
              "    }\n",
              "    80% {\n",
              "      border-color: transparent;\n",
              "      border-right-color: var(--fill-color);\n",
              "      border-bottom-color: var(--fill-color);\n",
              "    }\n",
              "    90% {\n",
              "      border-color: transparent;\n",
              "      border-bottom-color: var(--fill-color);\n",
              "    }\n",
              "  }\n",
              "</style>\n",
              "\n",
              "  <script>\n",
              "    async function quickchart(key) {\n",
              "      const quickchartButtonEl =\n",
              "        document.querySelector('#' + key + ' button');\n",
              "      quickchartButtonEl.disabled = true;  // To prevent multiple clicks.\n",
              "      quickchartButtonEl.classList.add('colab-df-spinner');\n",
              "      try {\n",
              "        const charts = await google.colab.kernel.invokeFunction(\n",
              "            'suggestCharts', [key], {});\n",
              "      } catch (error) {\n",
              "        console.error('Error during call to suggestCharts:', error);\n",
              "      }\n",
              "      quickchartButtonEl.classList.remove('colab-df-spinner');\n",
              "      quickchartButtonEl.classList.add('colab-df-quickchart-complete');\n",
              "    }\n",
              "    (() => {\n",
              "      let quickchartButtonEl =\n",
              "        document.querySelector('#df-2beb6a95-4e3c-4e0c-aa7c-2d26b2ddba2b button');\n",
              "      quickchartButtonEl.style.display =\n",
              "        google.colab.kernel.accessAllowed ? 'block' : 'none';\n",
              "    })();\n",
              "  </script>\n",
              "</div>\n",
              "\n",
              "    </div>\n",
              "  </div>\n"
            ]
          },
          "metadata": {},
          "execution_count": 25
        }
      ],
      "source": [
        "culqi_df.isnull().head(5)"
      ]
    },
    {
      "cell_type": "code",
      "source": [
        "culqi_df.isnull().any()"
      ],
      "metadata": {
        "id": "qe_QiU5kuiY_",
        "colab": {
          "base_uri": "https://localhost:8080/"
        },
        "outputId": "ffb8ae78-40ec-4732-f41f-c4904b4f304f"
      },
      "execution_count": 26,
      "outputs": [
        {
          "output_type": "execute_result",
          "data": {
            "text/plain": [
              "FECHA VENTA         False\n",
              "CANAL VENTA         False\n",
              "RUC CLIENTE         False\n",
              "VENDEDOR            False\n",
              "VENTA ACTIVA        False\n",
              "FECHA ACTIVACION     True\n",
              "FLUJO MES VENTA      True\n",
              "GIRO ECONOMICO      False\n",
              "DEPARTAMENTO         True\n",
              "TIPO PRODUCTO       False\n",
              "PRODUCTO            False\n",
              "dtype: bool"
            ]
          },
          "metadata": {},
          "execution_count": 26
        }
      ]
    },
    {
      "cell_type": "markdown",
      "source": [
        "### 5.De tener observaciones con valores nulos, ¿cuántas tenemos por cada variable?"
      ],
      "metadata": {
        "id": "Zxql7pP8nYTU"
      }
    },
    {
      "cell_type": "code",
      "source": [
        "culqi_df.isnull().sum()"
      ],
      "metadata": {
        "id": "cLNx61sXuy_S",
        "colab": {
          "base_uri": "https://localhost:8080/"
        },
        "outputId": "50f65b24-c17b-4a31-f4ed-e9ab39de370e"
      },
      "execution_count": 27,
      "outputs": [
        {
          "output_type": "execute_result",
          "data": {
            "text/plain": [
              "FECHA VENTA             0\n",
              "CANAL VENTA             0\n",
              "RUC CLIENTE             0\n",
              "VENDEDOR                0\n",
              "VENTA ACTIVA            0\n",
              "FECHA ACTIVACION     8379\n",
              "FLUJO MES VENTA     17020\n",
              "GIRO ECONOMICO          0\n",
              "DEPARTAMENTO         1445\n",
              "TIPO PRODUCTO           0\n",
              "PRODUCTO                0\n",
              "dtype: int64"
            ]
          },
          "metadata": {},
          "execution_count": 27
        }
      ]
    },
    {
      "cell_type": "markdown",
      "source": [
        "### 6.¿Cuántos valores nulos tenemos en total en el conjunto de datos?"
      ],
      "metadata": {
        "id": "UL79NYa-u1Li"
      }
    },
    {
      "cell_type": "code",
      "source": [
        "culqi_df.isnull().sum().sum()"
      ],
      "metadata": {
        "id": "BQcIHMYRvLdJ",
        "colab": {
          "base_uri": "https://localhost:8080/"
        },
        "outputId": "73bab096-ab98-4d29-c892-895fd1fecb2f"
      },
      "execution_count": 28,
      "outputs": [
        {
          "output_type": "execute_result",
          "data": {
            "text/plain": [
              "26844"
            ]
          },
          "metadata": {},
          "execution_count": 28
        }
      ]
    },
    {
      "cell_type": "markdown",
      "source": [
        "### 7.¿Cuál es la proporción de valores nulos por cada variable?"
      ],
      "metadata": {
        "id": "MgFO92FNvL0O"
      }
    },
    {
      "cell_type": "code",
      "source": [
        "culqi_df.isnull().melt()"
      ],
      "metadata": {
        "id": "wbH6Ey-mvYwc"
      },
      "execution_count": null,
      "outputs": []
    },
    {
      "cell_type": "code",
      "source": [
        "df = culqi_df.isnull().melt()\n",
        "\n",
        "sns.displot(data=df,\n",
        "            y='variable',\n",
        "            hue='value',\n",
        "            multiple='fill',\n",
        "            aspect=2)\n",
        "plt.show()"
      ],
      "metadata": {
        "id": "P31t0Z__w6QJ"
      },
      "execution_count": null,
      "outputs": []
    },
    {
      "cell_type": "code",
      "source": [
        "total = culqi_df.isnull().sum().sort_values(ascending = False)\n",
        "percent = (culqi_df.isnull().sum() / culqi_df.isnull().count()).sort_values(ascending = False)\n",
        "missing_data = pd.concat([total, percent], axis = 1, keys = ['Total', 'Percent'])\n",
        "missing_data.head(15)"
      ],
      "metadata": {
        "id": "slrPnO5weCEK"
      },
      "execution_count": null,
      "outputs": []
    },
    {
      "cell_type": "markdown",
      "source": [
        "### 8.¿Como podemos visualizar los valores nulos en todo el conjunto de datos?"
      ],
      "metadata": {
        "id": "20_cICmvvY9d"
      }
    },
    {
      "cell_type": "code",
      "source": [
        "df = culqi_df.isnull().transpose()\n",
        "\n",
        "sns.heatmap(data=df)"
      ],
      "metadata": {
        "id": "43LsG2Glvckh"
      },
      "execution_count": null,
      "outputs": []
    },
    {
      "cell_type": "markdown",
      "source": [
        "### 9.¿Cuantas observaciones perdemos si eliminamos los datos faltantes?"
      ],
      "metadata": {
        "id": "eNvWjq_svdMD"
      }
    },
    {
      "cell_type": "code",
      "source": [
        "#Primero recordemos cuantos datos tenemos\n",
        "culqi_df.shape"
      ],
      "metadata": {
        "id": "U64enMVbzkyq"
      },
      "execution_count": null,
      "outputs": []
    },
    {
      "cell_type": "code",
      "source": [
        "cdf = culqi_df.dropna()"
      ],
      "metadata": {
        "id": "Jt0ChKwZztrp"
      },
      "execution_count": null,
      "outputs": []
    },
    {
      "cell_type": "code",
      "source": [
        "cdf.shape"
      ],
      "metadata": {
        "id": "4B7dfm39hUQa"
      },
      "execution_count": null,
      "outputs": []
    },
    {
      "cell_type": "markdown",
      "source": [
        "## Segunda Parte: Conteo y proporciones"
      ],
      "metadata": {
        "id": "zc-UvmYG1_Ty"
      }
    },
    {
      "cell_type": "markdown",
      "source": [
        "### ¿Que estadisticos describen el conjunto de datos?"
      ],
      "metadata": {
        "id": "KfCehwaL2DbU"
      }
    },
    {
      "cell_type": "code",
      "source": [
        "cdf.describe()"
      ],
      "metadata": {
        "id": "p83vyvBl2Wje"
      },
      "execution_count": null,
      "outputs": []
    },
    {
      "cell_type": "markdown",
      "source": [
        "### Todas las Variables"
      ],
      "metadata": {
        "id": "bbMw_r3B2HoT"
      }
    },
    {
      "cell_type": "code",
      "source": [
        "cdf.describe(include='all')"
      ],
      "metadata": {
        "id": "1HfbIojZ2Vvn"
      },
      "execution_count": null,
      "outputs": []
    },
    {
      "cell_type": "markdown",
      "source": [
        "###Solo las numericas"
      ],
      "metadata": {
        "id": "EeIpZrut2KC2"
      }
    },
    {
      "cell_type": "code",
      "source": [
        "cdf.describe(include=[np.number])"
      ],
      "metadata": {
        "id": "Bbtp4d1E2UqV"
      },
      "execution_count": null,
      "outputs": []
    },
    {
      "cell_type": "markdown",
      "source": [
        "###Solo Categoricas 1"
      ],
      "metadata": {
        "id": "djDAYrSX2J2J"
      }
    },
    {
      "cell_type": "code",
      "source": [
        "cdf.describe(include=object)"
      ],
      "metadata": {
        "id": "X0_hY_qV2T5s"
      },
      "execution_count": null,
      "outputs": []
    },
    {
      "cell_type": "markdown",
      "source": [],
      "metadata": {
        "id": "VL_QJskA7F4E"
      }
    },
    {
      "cell_type": "code",
      "source": [
        "cdf.astype({\n",
        "        'CANAL VENTA':'category',\n",
        "        'RUC CLIENTE':'category',\n",
        "        'VENDEDOR':'category',\n",
        "        'GIRO ECONOMICO':'category',\n",
        "        'DEPARTAMENTO':'category',\n",
        "        'TIPO PRODUCTO':'category',\n",
        "        'PRODUCTO':'category'\n",
        "    })\n"
      ],
      "metadata": {
        "id": "i7vBv-Dp2X7j"
      },
      "execution_count": null,
      "outputs": []
    },
    {
      "cell_type": "markdown",
      "source": [
        "### ¿Como visualizo los conteos?"
      ],
      "metadata": {
        "id": "tublOyHJ2JuQ"
      }
    },
    {
      "cell_type": "markdown",
      "source": [
        "### Pandas"
      ],
      "metadata": {
        "id": "maxPwYnr2Jel"
      }
    },
    {
      "cell_type": "code",
      "source": [
        "df = cdf['CANAL VENTA'].value_counts()\n",
        "\n",
        "plt.bar(plot.index,plot.values)\n",
        "plt.show()"
      ],
      "metadata": {
        "id": "H03vex1e7wdF"
      },
      "execution_count": null,
      "outputs": []
    },
    {
      "cell_type": "code",
      "source": [
        "bars = plt.bar(plot.index,plot.values)\n",
        "\n",
        "plt.bar_label(bars)\n",
        "plt.show()"
      ],
      "metadata": {
        "id": "NGDYPtizASzT"
      },
      "execution_count": null,
      "outputs": []
    },
    {
      "cell_type": "markdown",
      "source": [
        "### Seaborn"
      ],
      "metadata": {
        "id": "uKPdc0ap7r7a"
      }
    },
    {
      "cell_type": "code",
      "source": [
        "sns.catplot(\n",
        "    data=cdf,\n",
        "    x='CANAL VENTA',\n",
        "    kind='count'\n",
        ")\n",
        "plt.show()"
      ],
      "metadata": {
        "id": "tuVvfk0q7xAT"
      },
      "execution_count": null,
      "outputs": []
    },
    {
      "cell_type": "code",
      "source": [
        "#realizamos una tabla para contar\n",
        "df = cdf['CANAL VENTA'].value_counts(sort=True).reset_index(name='count')\n",
        "\n",
        "\n",
        "sns.barplot(data=df,\n",
        "            x='index',\n",
        "            y='count')\n"
      ],
      "metadata": {
        "id": "CQ1EIgob7x7L"
      },
      "execution_count": null,
      "outputs": []
    },
    {
      "cell_type": "markdown",
      "source": [
        "### ¿Cómo visualizar las proporciones?"
      ],
      "metadata": {
        "id": "XsyCddn17yW1"
      }
    },
    {
      "cell_type": "code",
      "source": [
        "cdf['x']=''\n",
        "\n",
        "cdf.info()"
      ],
      "metadata": {
        "id": "Zs1ibPxr71bM"
      },
      "execution_count": null,
      "outputs": []
    },
    {
      "cell_type": "code",
      "source": [
        "sns.displot(\n",
        "    data=cdf,\n",
        "    x='x',\n",
        "    hue='CANAL VENTA',\n",
        "    multiple='fill'\n",
        ")\n",
        "\n",
        "plt.show()"
      ],
      "metadata": {
        "id": "w8TBv5n2Dweb"
      },
      "execution_count": null,
      "outputs": []
    },
    {
      "cell_type": "markdown",
      "source": [
        "## Tercera Parte: Medidas de Tendencia Central"
      ],
      "metadata": {
        "id": "yds-3cuJF6rp"
      }
    },
    {
      "cell_type": "markdown",
      "source": [
        "### PROMEDIO"
      ],
      "metadata": {
        "id": "tRUAhAv6GTYm"
      }
    },
    {
      "cell_type": "code",
      "source": [
        "cdf.mean()"
      ],
      "metadata": {
        "id": "ZDRea1KlGSsp"
      },
      "execution_count": null,
      "outputs": []
    },
    {
      "cell_type": "markdown",
      "source": [
        "### MEDIANA"
      ],
      "metadata": {
        "id": "fwCigyEHGWve"
      }
    },
    {
      "cell_type": "code",
      "source": [
        "cdf.median()"
      ],
      "metadata": {
        "id": "SNPSn5aUGYBO"
      },
      "execution_count": null,
      "outputs": []
    },
    {
      "cell_type": "markdown",
      "source": [
        "### MODE"
      ],
      "metadata": {
        "id": "MNy9byyPGYRS"
      }
    },
    {
      "cell_type": "code",
      "source": [
        "cdf.mode()"
      ],
      "metadata": {
        "id": "0bR8RKJoGYpY"
      },
      "execution_count": null,
      "outputs": []
    },
    {
      "cell_type": "code",
      "source": [
        "#moda para variables categoricas:\n",
        "cdf.describe(include=object)"
      ],
      "metadata": {
        "id": "RUY_OZ5WHGnK"
      },
      "execution_count": null,
      "outputs": []
    },
    {
      "cell_type": "markdown",
      "source": [
        "## Cuarta Parte: Medidas de Dispersión\n",
        "\n",
        "![medida.jpg](data:image/jpeg;base64,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)"
      ],
      "metadata": {
        "id": "shn6VLk6HPkM"
      }
    },
    {
      "cell_type": "markdown",
      "source": [
        "![asimetria_.jpg](data:image/jpeg;base64,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)"
      ],
      "metadata": {
        "id": "sEz0MsuOIrvN"
      }
    },
    {
      "cell_type": "markdown",
      "source": [
        "![curtosis.jpg](data:image/jpeg;base64,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)"
      ],
      "metadata": {
        "id": "Ku-zD7JnIxgz"
      }
    },
    {
      "cell_type": "markdown",
      "source": [
        "### Rango\n",
        "*  La diferencia entre el valor máximo y valor mínimo"
      ],
      "metadata": {
        "id": "NoQfJ8zBHb6U"
      }
    },
    {
      "cell_type": "code",
      "source": [
        "#Valor maximo:\n",
        "cdf['FLUJO MES VENTA'].max(numeric_only=True)"
      ],
      "metadata": {
        "id": "GxffMDNwNsa5"
      },
      "execution_count": null,
      "outputs": []
    },
    {
      "cell_type": "code",
      "source": [
        "#Valor minimo:\n",
        "cdf.min(numeric_only=True)"
      ],
      "metadata": {
        "id": "7P-yYe_BNzTy"
      },
      "execution_count": null,
      "outputs": []
    },
    {
      "cell_type": "code",
      "source": [
        "#Rango de variales\n",
        "cdf.max(numeric_only=True) - cdf.min(numeric_only=True)"
      ],
      "metadata": {
        "id": "-UGdBntxN1au"
      },
      "execution_count": null,
      "outputs": []
    },
    {
      "cell_type": "markdown",
      "source": [
        "### Desviación Estandar\n",
        "*  La dispersión media de una variable"
      ],
      "metadata": {
        "id": "aZsKnjWoHovE"
      }
    },
    {
      "cell_type": "code",
      "source": [
        "cdf.std(numeric_only=True)"
      ],
      "metadata": {
        "id": "ijs-EFi0OGdX"
      },
      "execution_count": null,
      "outputs": []
    },
    {
      "cell_type": "markdown",
      "source": [
        "### Rango intercuartílico\n",
        "*  Comprenden +-25% de los datos respecto a la mediana"
      ],
      "metadata": {
        "id": "dSoyusBUHjcU"
      }
    },
    {
      "cell_type": "code",
      "source": [
        "cdf.quantile(0.25,numeric_only=True)"
      ],
      "metadata": {
        "id": "5nVyQ--MOVYg"
      },
      "execution_count": null,
      "outputs": []
    },
    {
      "cell_type": "code",
      "source": [
        "cdf.quantile(0.50,numeric_only=True)"
      ],
      "metadata": {
        "id": "GtOjxb89OeML"
      },
      "execution_count": null,
      "outputs": []
    },
    {
      "cell_type": "code",
      "source": [
        "cdf.quantile(0.75,numeric_only=True)"
      ],
      "metadata": {
        "id": "NuXlvrhVOjea"
      },
      "execution_count": null,
      "outputs": []
    },
    {
      "cell_type": "code",
      "source": [
        "#BOXPLOT\n",
        "\n",
        "sns.boxplot(\n",
        "    data=cdf,\n",
        "    x='FLUJO MES VENTA'\n",
        ")\n",
        "\n",
        "plt.axvline(\n",
        "    x=cdf['FLUJO MES VENTA'].mean(),\n",
        "    color='red',\n",
        "    linestyle='dashed',\n",
        "    linewidth=2\n",
        ")\n",
        "plt.show()"
      ],
      "metadata": {
        "id": "RPmqLmQ7ooen"
      },
      "execution_count": null,
      "outputs": []
    },
    {
      "cell_type": "markdown",
      "source": [
        "### Visualizando la distribución de una variable"
      ],
      "metadata": {
        "id": "rbBqiR9TOp5j"
      }
    },
    {
      "cell_type": "code",
      "source": [
        "sns.histplot(\n",
        "    data=cdf,\n",
        "    x='FLUJO MES VENTA',\n",
        ")\n",
        "\n",
        "plt.axvline(\n",
        "    x=cdf['FLUJO MES VENTA'].mean(),\n",
        "    color='red',\n",
        "    linestyle='dashed',\n",
        "    linewidth=2\n",
        ")\n",
        "plt.show()"
      ],
      "metadata": {
        "id": "eBKWjA91Otka"
      },
      "execution_count": null,
      "outputs": []
    },
    {
      "cell_type": "code",
      "source": [
        "#BOXPLOT\n",
        "\n",
        "sns.boxplot(\n",
        "    data=cdf,\n",
        "    x='FLUJO MES VENTA'\n",
        ")"
      ],
      "metadata": {
        "id": "hdtqXXTuJIfT"
      },
      "execution_count": null,
      "outputs": []
    }
  ]
}